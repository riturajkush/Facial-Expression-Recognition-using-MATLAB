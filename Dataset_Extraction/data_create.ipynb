{
 "cells": [
  {
   "cell_type": "code",
   "execution_count": 2,
   "metadata": {},
   "outputs": [],
   "source": [
    "import pandas as pd\n",
    "import matplotlib.pyplot as plt\n",
    "import numpy as np\n",
    "import cv2"
   ]
  },
  {
   "cell_type": "code",
   "execution_count": 3,
   "metadata": {},
   "outputs": [],
   "source": [
    "images = pd.read_csv('fer2013.csv')\n",
    "labels = images[\"emotion\"]\n",
    "images = images[\"pixels\"]"
   ]
  },
  {
   "cell_type": "code",
   "execution_count": 4,
   "metadata": {},
   "outputs": [
    {
     "data": {
      "text/plain": [
       "0    0\n",
       "1    0\n",
       "2    2\n",
       "3    4\n",
       "4    6\n",
       "Name: emotion, dtype: int64"
      ]
     },
     "execution_count": 4,
     "metadata": {},
     "output_type": "execute_result"
    }
   ],
   "source": [
    "labels.head()"
   ]
  },
  {
   "cell_type": "code",
   "execution_count": 5,
   "metadata": {},
   "outputs": [
    {
     "data": {
      "text/plain": [
       "0    70 80 82 72 58 58 60 63 54 58 60 48 89 115 121...\n",
       "1    151 150 147 155 148 133 111 140 170 174 182 15...\n",
       "2    231 212 156 164 174 138 161 173 182 200 106 38...\n",
       "3    24 32 36 30 32 23 19 20 30 41 21 22 32 34 21 1...\n",
       "4    4 0 0 0 0 0 0 0 0 0 0 0 3 15 23 28 48 50 58 84...\n",
       "Name: pixels, dtype: object"
      ]
     },
     "execution_count": 5,
     "metadata": {},
     "output_type": "execute_result"
    }
   ],
   "source": [
    "images.head()"
   ]
  },
  {
   "cell_type": "code",
   "execution_count": null,
   "metadata": {
    "scrolled": false
   },
   "outputs": [],
   "source": [
    "j=0\n",
    "for image in images:\n",
    "    image = list(map(int,image.split(' ')))\n",
    "    image = np.array(image)\n",
    "    label = int(labels[j])\n",
    "    image = image.reshape(48,48)\n",
    "    image=cv2.merge((image,image,image))\n",
    "    if(label == 0):\n",
    "        name = \"emotions/Angry/image%d.png\"%j\n",
    "    if(label == 1):\n",
    "        name = \"emotions/Disgust/image%d.png\"%j\n",
    "    if(label == 2):\n",
    "        name = \"emotions/Fear/image%d.png\"%j\n",
    "    if(label == 3):\n",
    "        name = \"emotions/Happy/image%d.png\"%j\n",
    "    if(label == 4):\n",
    "        name = \"emotions/Sad/image%d.png\"%j\n",
    "    if(label == 5):\n",
    "        name = \"emotions/Surprise/image%d.png\"%j\n",
    "    if(label == 6):\n",
    "        name = \"emotions/Neutral/image%d.png\"%j    \n",
    "    j=j+1\n",
    "    print(name)\n",
    "    cv2.imwrite(name,image)\n",
    "    "
   ]
  }
 ],
 "metadata": {
  "kernelspec": {
   "display_name": "Python 3",
   "language": "python",
   "name": "python3"
  },
  "language_info": {
   "codemirror_mode": {
    "name": "ipython",
    "version": 3
   },
   "file_extension": ".py",
   "mimetype": "text/x-python",
   "name": "python",
   "nbconvert_exporter": "python",
   "pygments_lexer": "ipython3",
   "version": "3.6.5"
  }
 },
 "nbformat": 4,
 "nbformat_minor": 2
}
